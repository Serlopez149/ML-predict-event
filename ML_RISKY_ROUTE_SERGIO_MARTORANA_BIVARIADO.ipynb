{
 "cells": [
  {
   "cell_type": "markdown",
   "metadata": {},
   "source": [
    "## ANALISIS BIVARIADO DEL PROYECTO : ML RISKY ROUTE"
   ]
  },
  {
   "cell_type": "code",
   "execution_count": 1,
   "metadata": {},
   "outputs": [],
   "source": [
    "#Importamos los paquetes\n",
    "import pandas as pd\n",
    "import seaborn as sns\n",
    "import matplotlib.pyplot as plt\n",
    "import numpy as np\n",
    "import warnings\n",
    "warnings.filterwarnings(\"ignore\")"
   ]
  },
  {
   "cell_type": "code",
   "execution_count": 2,
   "metadata": {},
   "outputs": [
    {
     "data": {
      "text/html": [
       "<div>\n",
       "<style scoped>\n",
       "    .dataframe tbody tr th:only-of-type {\n",
       "        vertical-align: middle;\n",
       "    }\n",
       "\n",
       "    .dataframe tbody tr th {\n",
       "        vertical-align: top;\n",
       "    }\n",
       "\n",
       "    .dataframe thead th {\n",
       "        text-align: right;\n",
       "    }\n",
       "</style>\n",
       "<table border=\"1\" class=\"dataframe\">\n",
       "  <thead>\n",
       "    <tr style=\"text-align: right;\">\n",
       "      <th></th>\n",
       "      <th>SHP_SHIPMENT_ID</th>\n",
       "      <th>SIT_SITE_ID</th>\n",
       "      <th>SHP_DATE_SHIPPED_ID</th>\n",
       "      <th>SHP_LG_ROUTE_ID</th>\n",
       "      <th>SHP_LG_FACILITY_ID</th>\n",
       "      <th>SHP_LG_CLUSTER_ID</th>\n",
       "      <th>SHP_LG_STATUS</th>\n",
       "      <th>SHP_LG_SUB_STATUS</th>\n",
       "      <th>SHP_LOGISTIC_CENTER_ID</th>\n",
       "      <th>PICKING_TYPE</th>\n",
       "      <th>...</th>\n",
       "      <th>LAST_UPDATED</th>\n",
       "      <th>SHP_COMPANY_NAME</th>\n",
       "      <th>SHP_LG_VEHICLE_PLATE_ID</th>\n",
       "      <th>SHP_LG_VEHICLE_TYPE</th>\n",
       "      <th>SHP_LG_DRIVER_ID</th>\n",
       "      <th>SHP_LG_CALCULATED_DISTANCE</th>\n",
       "      <th>SHP_LG_PLANNED_DISTANCE</th>\n",
       "      <th>Driver</th>\n",
       "      <th>SHP_ORDER_COST_USD</th>\n",
       "      <th>Volumen</th>\n",
       "    </tr>\n",
       "  </thead>\n",
       "  <tbody>\n",
       "    <tr>\n",
       "      <th>0</th>\n",
       "      <td>40584763561</td>\n",
       "      <td>MLA</td>\n",
       "      <td>2021-06-01</td>\n",
       "      <td>2469456</td>\n",
       "      <td>SRO1</td>\n",
       "      <td>R2</td>\n",
       "      <td>on_route</td>\n",
       "      <td>delivered</td>\n",
       "      <td>ARXCF1</td>\n",
       "      <td>XD</td>\n",
       "      <td>...</td>\n",
       "      <td>2021-06-01</td>\n",
       "      <td>Mail Express</td>\n",
       "      <td>GNJ475</td>\n",
       "      <td>Fiorino</td>\n",
       "      <td>34908</td>\n",
       "      <td>18.51</td>\n",
       "      <td>22.09</td>\n",
       "      <td>Cesar Sfilio</td>\n",
       "      <td>84.53</td>\n",
       "      <td>1000.0</td>\n",
       "    </tr>\n",
       "    <tr>\n",
       "      <th>1</th>\n",
       "      <td>40588014662</td>\n",
       "      <td>MLA</td>\n",
       "      <td>2021-05-21</td>\n",
       "      <td>2421940</td>\n",
       "      <td>SRO1</td>\n",
       "      <td>R1</td>\n",
       "      <td>on_route</td>\n",
       "      <td>delivered</td>\n",
       "      <td>ARXCF1</td>\n",
       "      <td>XD</td>\n",
       "      <td>...</td>\n",
       "      <td>2021-05-21</td>\n",
       "      <td>Mail Express</td>\n",
       "      <td>MQN418</td>\n",
       "      <td>Fiorino</td>\n",
       "      <td>32122</td>\n",
       "      <td>39.63</td>\n",
       "      <td>24.98</td>\n",
       "      <td>Vicente Teves</td>\n",
       "      <td>6.69</td>\n",
       "      <td>19980.0</td>\n",
       "    </tr>\n",
       "    <tr>\n",
       "      <th>2</th>\n",
       "      <td>40591308028</td>\n",
       "      <td>MLA</td>\n",
       "      <td>2021-05-21</td>\n",
       "      <td>2422031</td>\n",
       "      <td>SRO1</td>\n",
       "      <td>R3</td>\n",
       "      <td>on_route</td>\n",
       "      <td>delivered</td>\n",
       "      <td>ARXCF1</td>\n",
       "      <td>XD</td>\n",
       "      <td>...</td>\n",
       "      <td>2021-05-21</td>\n",
       "      <td>Mail Express</td>\n",
       "      <td>HJD603</td>\n",
       "      <td>Fiorino</td>\n",
       "      <td>33129</td>\n",
       "      <td>33.09</td>\n",
       "      <td>27.25</td>\n",
       "      <td>Silvina Deseta</td>\n",
       "      <td>14.13</td>\n",
       "      <td>9300.0</td>\n",
       "    </tr>\n",
       "    <tr>\n",
       "      <th>3</th>\n",
       "      <td>40592260086</td>\n",
       "      <td>MLA</td>\n",
       "      <td>2021-05-22</td>\n",
       "      <td>2437529</td>\n",
       "      <td>SRO1</td>\n",
       "      <td>R1</td>\n",
       "      <td>on_route</td>\n",
       "      <td>delivered</td>\n",
       "      <td>ARBA01</td>\n",
       "      <td>XD</td>\n",
       "      <td>...</td>\n",
       "      <td>2021-05-26</td>\n",
       "      <td>Mail Express</td>\n",
       "      <td>AA303FZ</td>\n",
       "      <td>Fiorino</td>\n",
       "      <td>34649</td>\n",
       "      <td>21.38</td>\n",
       "      <td>31.00</td>\n",
       "      <td>Locret German</td>\n",
       "      <td>66.82</td>\n",
       "      <td>29160.0</td>\n",
       "    </tr>\n",
       "    <tr>\n",
       "      <th>4</th>\n",
       "      <td>40591198804</td>\n",
       "      <td>MLA</td>\n",
       "      <td>2021-05-21</td>\n",
       "      <td>2422038</td>\n",
       "      <td>SRO1</td>\n",
       "      <td>R4</td>\n",
       "      <td>on_route</td>\n",
       "      <td>delivered</td>\n",
       "      <td>ARBA01</td>\n",
       "      <td>XD</td>\n",
       "      <td>...</td>\n",
       "      <td>2021-05-21</td>\n",
       "      <td>Mail Express</td>\n",
       "      <td>AB382BK</td>\n",
       "      <td>Fiorino</td>\n",
       "      <td>139993</td>\n",
       "      <td>53.71</td>\n",
       "      <td>37.55</td>\n",
       "      <td>Analia Pineschi</td>\n",
       "      <td>56.69</td>\n",
       "      <td>4862.0</td>\n",
       "    </tr>\n",
       "  </tbody>\n",
       "</table>\n",
       "<p>5 rows × 21 columns</p>\n",
       "</div>"
      ],
      "text/plain": [
       "   SHP_SHIPMENT_ID SIT_SITE_ID SHP_DATE_SHIPPED_ID  SHP_LG_ROUTE_ID  \\\n",
       "0      40584763561      MLA             2021-06-01          2469456   \n",
       "1      40588014662      MLA             2021-05-21          2421940   \n",
       "2      40591308028      MLA             2021-05-21          2422031   \n",
       "3      40592260086      MLA             2021-05-22          2437529   \n",
       "4      40591198804      MLA             2021-05-21          2422038   \n",
       "\n",
       "  SHP_LG_FACILITY_ID SHP_LG_CLUSTER_ID SHP_LG_STATUS SHP_LG_SUB_STATUS  \\\n",
       "0               SRO1                R2      on_route         delivered   \n",
       "1               SRO1                R1      on_route         delivered   \n",
       "2               SRO1                R3      on_route         delivered   \n",
       "3               SRO1                R1      on_route         delivered   \n",
       "4               SRO1                R4      on_route         delivered   \n",
       "\n",
       "  SHP_LOGISTIC_CENTER_ID PICKING_TYPE  ... LAST_UPDATED SHP_COMPANY_NAME  \\\n",
       "0                 ARXCF1           XD  ...   2021-06-01     Mail Express   \n",
       "1                 ARXCF1           XD  ...   2021-05-21     Mail Express   \n",
       "2                 ARXCF1           XD  ...   2021-05-21     Mail Express   \n",
       "3                 ARBA01           XD  ...   2021-05-26     Mail Express   \n",
       "4                 ARBA01           XD  ...   2021-05-21     Mail Express   \n",
       "\n",
       "  SHP_LG_VEHICLE_PLATE_ID SHP_LG_VEHICLE_TYPE SHP_LG_DRIVER_ID  \\\n",
       "0                  GNJ475             Fiorino            34908   \n",
       "1                  MQN418             Fiorino            32122   \n",
       "2                  HJD603             Fiorino            33129   \n",
       "3                 AA303FZ             Fiorino            34649   \n",
       "4                 AB382BK             Fiorino           139993   \n",
       "\n",
       "   SHP_LG_CALCULATED_DISTANCE  SHP_LG_PLANNED_DISTANCE           Driver  \\\n",
       "0                       18.51                    22.09     Cesar Sfilio   \n",
       "1                       39.63                    24.98    Vicente Teves   \n",
       "2                       33.09                    27.25   Silvina Deseta   \n",
       "3                       21.38                    31.00    Locret German   \n",
       "4                       53.71                    37.55  Analia Pineschi   \n",
       "\n",
       "  SHP_ORDER_COST_USD  Volumen  \n",
       "0              84.53   1000.0  \n",
       "1               6.69  19980.0  \n",
       "2              14.13   9300.0  \n",
       "3              66.82  29160.0  \n",
       "4              56.69   4862.0  \n",
       "\n",
       "[5 rows x 21 columns]"
      ]
     },
     "execution_count": 2,
     "metadata": {},
     "output_type": "execute_result"
    }
   ],
   "source": [
    "#Importo el data set y visualizo las primeras filas.\n",
    "df=pd.read_csv(\"C:/Users/mmartorana/Downloads/CoderHouse/Data_set.csv\", sep=\",\")\n",
    "df.head()"
   ]
  },
  {
   "cell_type": "code",
   "execution_count": 3,
   "metadata": {},
   "outputs": [
    {
     "data": {
      "text/plain": [
       "(990869, 21)"
      ]
     },
     "execution_count": 3,
     "metadata": {},
     "output_type": "execute_result"
    }
   ],
   "source": [
    "df.shape"
   ]
  },
  {
   "cell_type": "code",
   "execution_count": 4,
   "metadata": {},
   "outputs": [
    {
     "data": {
      "text/plain": [
       "SHP_SHIPMENT_ID               990869\n",
       "SIT_SITE_ID                   990869\n",
       "SHP_DATE_SHIPPED_ID           990869\n",
       "SHP_LG_ROUTE_ID               990869\n",
       "SHP_LG_FACILITY_ID            990869\n",
       "SHP_LG_CLUSTER_ID             990869\n",
       "SHP_LG_STATUS                 990869\n",
       "SHP_LG_SUB_STATUS             990869\n",
       "SHP_LOGISTIC_CENTER_ID        990864\n",
       "PICKING_TYPE                  990869\n",
       "Clasificacion                 990869\n",
       "LAST_UPDATED                  990869\n",
       "SHP_COMPANY_NAME              990869\n",
       "SHP_LG_VEHICLE_PLATE_ID       990869\n",
       "SHP_LG_VEHICLE_TYPE           990869\n",
       "SHP_LG_DRIVER_ID              990869\n",
       "SHP_LG_CALCULATED_DISTANCE    987025\n",
       "SHP_LG_PLANNED_DISTANCE       981576\n",
       "Driver                        990869\n",
       "SHP_ORDER_COST_USD            990844\n",
       "Volumen                       989706\n",
       "dtype: int64"
      ]
     },
     "execution_count": 4,
     "metadata": {},
     "output_type": "execute_result"
    }
   ],
   "source": [
    "df.count()"
   ]
  },
  {
   "cell_type": "code",
   "execution_count": 5,
   "metadata": {},
   "outputs": [
    {
     "data": {
      "text/plain": [
       "SHP_SHIPMENT_ID                 int64\n",
       "SIT_SITE_ID                    object\n",
       "SHP_DATE_SHIPPED_ID            object\n",
       "SHP_LG_ROUTE_ID                 int64\n",
       "SHP_LG_FACILITY_ID             object\n",
       "SHP_LG_CLUSTER_ID              object\n",
       "SHP_LG_STATUS                  object\n",
       "SHP_LG_SUB_STATUS              object\n",
       "SHP_LOGISTIC_CENTER_ID         object\n",
       "PICKING_TYPE                   object\n",
       "Clasificacion                  object\n",
       "LAST_UPDATED                   object\n",
       "SHP_COMPANY_NAME               object\n",
       "SHP_LG_VEHICLE_PLATE_ID        object\n",
       "SHP_LG_VEHICLE_TYPE            object\n",
       "SHP_LG_DRIVER_ID                int64\n",
       "SHP_LG_CALCULATED_DISTANCE    float64\n",
       "SHP_LG_PLANNED_DISTANCE       float64\n",
       "Driver                         object\n",
       "SHP_ORDER_COST_USD            float64\n",
       "Volumen                       float64\n",
       "dtype: object"
      ]
     },
     "execution_count": 5,
     "metadata": {},
     "output_type": "execute_result"
    }
   ],
   "source": [
    "df.dtypes"
   ]
  },
  {
   "cell_type": "code",
   "execution_count": 8,
   "metadata": {},
   "outputs": [
    {
     "data": {
      "text/plain": [
       "<AxesSubplot:xlabel='SHP_ORDER_COST_USD', ylabel='SHP_LG_PLANNED_DISTANCE'>"
      ]
     },
     "execution_count": 8,
     "metadata": {},
     "output_type": "execute_result"
    },
    {
     "data": {
      "image/png": "[encoded data removed]",
      "text/plain": [
       "<Figure size 432x288 with 1 Axes>"
      ]
     },
     "metadata": {
      "needs_background": "light"
     },
     "output_type": "display_data"
    }
   ],
   "source": [
    "#Scatterplot\n",
    "df.plot.scatter(x='SHP_ORDER_COST_USD', y='SHP_LG_PLANNED_DISTANCE')"
   ]
  },
  {
   "cell_type": "code",
   "execution_count": 12,
   "metadata": {},
   "outputs": [
    {
     "data": {
      "text/plain": [
       "<AxesSubplot:xlabel='SHP_LG_CALCULATED_DISTANCE', ylabel='SHP_LG_PLANNED_DISTANCE'>"
      ]
     },
     "execution_count": 12,
     "metadata": {},
     "output_type": "execute_result"
    },
    {
     "data": {
      "image/png": "[encoded data removed]",
      "text/plain": [
       "<Figure size 432x288 with 2 Axes>"
      ]
     },
     "metadata": {
      "needs_background": "light"
     },
     "output_type": "display_data"
    }
   ],
   "source": [
    "df.plot.hexbin(x='SHP_LG_CALCULATED_DISTANCE', y='SHP_LG_PLANNED_DISTANCE', gridsize=15)"
   ]
  },
  {
   "cell_type": "code",
   "execution_count": 15,
   "metadata": {},
   "outputs": [
    {
     "data": {
      "text/html": [
       "<div>\n",
       "<style scoped>\n",
       "    .dataframe tbody tr th:only-of-type {\n",
       "        vertical-align: middle;\n",
       "    }\n",
       "\n",
       "    .dataframe tbody tr th {\n",
       "        vertical-align: top;\n",
       "    }\n",
       "\n",
       "    .dataframe thead th {\n",
       "        text-align: right;\n",
       "    }\n",
       "</style>\n",
       "<table border=\"1\" class=\"dataframe\">\n",
       "  <thead>\n",
       "    <tr style=\"text-align: right;\">\n",
       "      <th></th>\n",
       "      <th></th>\n",
       "      <th>SHP_LG_CALCULATED_DISTANCE</th>\n",
       "      <th>SHP_ORDER_COST_USD</th>\n",
       "    </tr>\n",
       "    <tr>\n",
       "      <th>PICKING_TYPE</th>\n",
       "      <th>SHP_LG_SUB_STATUS</th>\n",
       "      <th></th>\n",
       "      <th></th>\n",
       "    </tr>\n",
       "  </thead>\n",
       "  <tbody>\n",
       "    <tr>\n",
       "      <th rowspan=\"10\" valign=\"top\">FBM</th>\n",
       "      <th>claimed</th>\n",
       "      <td>0.000000</td>\n",
       "      <td>132.625000</td>\n",
       "    </tr>\n",
       "    <tr>\n",
       "      <th>delivered</th>\n",
       "      <td>129.855853</td>\n",
       "      <td>70.897893</td>\n",
       "    </tr>\n",
       "    <tr>\n",
       "      <th>delivered_place</th>\n",
       "      <td>16.260000</td>\n",
       "      <td>85.770000</td>\n",
       "    </tr>\n",
       "    <tr>\n",
       "      <th>for_return</th>\n",
       "      <td>61.195000</td>\n",
       "      <td>78.435000</td>\n",
       "    </tr>\n",
       "    <tr>\n",
       "      <th>lost</th>\n",
       "      <td>7.180588</td>\n",
       "      <td>98.777059</td>\n",
       "    </tr>\n",
       "    <tr>\n",
       "      <th>problem_solving</th>\n",
       "      <td>0.000000</td>\n",
       "      <td>63.880000</td>\n",
       "    </tr>\n",
       "    <tr>\n",
       "      <th>return</th>\n",
       "      <td>53.667345</td>\n",
       "      <td>91.314127</td>\n",
       "    </tr>\n",
       "    <tr>\n",
       "      <th>route_cancelled</th>\n",
       "      <td>0.000000</td>\n",
       "      <td>12.750000</td>\n",
       "    </tr>\n",
       "    <tr>\n",
       "      <th>sorting</th>\n",
       "      <td>20.001333</td>\n",
       "      <td>53.861333</td>\n",
       "    </tr>\n",
       "    <tr>\n",
       "      <th>stolen</th>\n",
       "      <td>8.938621</td>\n",
       "      <td>45.704483</td>\n",
       "    </tr>\n",
       "    <tr>\n",
       "      <th rowspan=\"9\" valign=\"top\">XD</th>\n",
       "      <th>damaged</th>\n",
       "      <td>71.490000</td>\n",
       "      <td>215.180000</td>\n",
       "    </tr>\n",
       "    <tr>\n",
       "      <th>delivered</th>\n",
       "      <td>73.675509</td>\n",
       "      <td>55.184504</td>\n",
       "    </tr>\n",
       "    <tr>\n",
       "      <th>delivered_place</th>\n",
       "      <td>19.530000</td>\n",
       "      <td>79.080000</td>\n",
       "    </tr>\n",
       "    <tr>\n",
       "      <th>for_return</th>\n",
       "      <td>0.000000</td>\n",
       "      <td>7.480000</td>\n",
       "    </tr>\n",
       "    <tr>\n",
       "      <th>lost</th>\n",
       "      <td>14.516939</td>\n",
       "      <td>53.848200</td>\n",
       "    </tr>\n",
       "    <tr>\n",
       "      <th>problem_solving</th>\n",
       "      <td>42.940000</td>\n",
       "      <td>23.016667</td>\n",
       "    </tr>\n",
       "    <tr>\n",
       "      <th>return</th>\n",
       "      <td>56.431675</td>\n",
       "      <td>62.247969</td>\n",
       "    </tr>\n",
       "    <tr>\n",
       "      <th>sorting</th>\n",
       "      <td>16.058615</td>\n",
       "      <td>67.768769</td>\n",
       "    </tr>\n",
       "    <tr>\n",
       "      <th>stolen</th>\n",
       "      <td>5.373043</td>\n",
       "      <td>58.795942</td>\n",
       "    </tr>\n",
       "  </tbody>\n",
       "</table>\n",
       "</div>"
      ],
      "text/plain": [
       "                                SHP_LG_CALCULATED_DISTANCE  SHP_ORDER_COST_USD\n",
       "PICKING_TYPE SHP_LG_SUB_STATUS                                                \n",
       "FBM          claimed                              0.000000          132.625000\n",
       "             delivered                          129.855853           70.897893\n",
       "             delivered_place                     16.260000           85.770000\n",
       "             for_return                          61.195000           78.435000\n",
       "             lost                                 7.180588           98.777059\n",
       "             problem_solving                      0.000000           63.880000\n",
       "             return                              53.667345           91.314127\n",
       "             route_cancelled                      0.000000           12.750000\n",
       "             sorting                             20.001333           53.861333\n",
       "             stolen                               8.938621           45.704483\n",
       "XD           damaged                             71.490000          215.180000\n",
       "             delivered                           73.675509           55.184504\n",
       "             delivered_place                     19.530000           79.080000\n",
       "             for_return                           0.000000            7.480000\n",
       "             lost                                14.516939           53.848200\n",
       "             problem_solving                     42.940000           23.016667\n",
       "             return                              56.431675           62.247969\n",
       "             sorting                             16.058615           67.768769\n",
       "             stolen                               5.373043           58.795942"
      ]
     },
     "execution_count": 15,
     "metadata": {},
     "output_type": "execute_result"
    }
   ],
   "source": [
    "df_type = df.groupby(['PICKING_TYPE', 'SHP_LG_SUB_STATUS']).mean()[['SHP_LG_CALCULATED_DISTANCE', 'SHP_ORDER_COST_USD']]\n",
    "df_type"
   ]
  },
  {
   "cell_type": "code",
   "execution_count": 17,
   "metadata": {},
   "outputs": [
    {
     "data": {
      "text/plain": [
       "<AxesSubplot:xlabel='PICKING_TYPE,SHP_LG_SUB_STATUS'>"
      ]
     },
     "execution_count": 17,
     "metadata": {},
     "output_type": "execute_result"
    },
    {
     "data": {
      "image/png": "[encoded data removed]",
      "text/plain": [
       "<Figure size 432x288 with 1 Axes>"
      ]
     },
     "metadata": {
      "needs_background": "light"
     },
     "output_type": "display_data"
    }
   ],
   "source": [
    "df_type.plot.bar(stacked=True)"
   ]
  }
 ],
 "metadata": {
  "interpreter": {
   "hash": "8790c0c607d11294edd004c1d55f189af3866d71945d9c66dc9b6b6ec45615f3"
  },
  "kernelspec": {
   "display_name": "Python 3.8.8 64-bit ('base': conda)",
   "language": "python",
   "name": "python3"
  },
  "language_info": {
   "codemirror_mode": {
    "name": "ipython",
    "version": 3
   },
   "file_extension": ".py",
   "mimetype": "text/x-python",
   "name": "python",
   "nbconvert_exporter": "python",
   "pygments_lexer": "ipython3",
   "version": "3.8.8"
  },
  "orig_nbformat": 4
 },
 "nbformat": 4,
 "nbformat_minor": 2
}
